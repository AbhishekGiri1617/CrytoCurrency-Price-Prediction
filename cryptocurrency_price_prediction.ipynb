{
  "cells": [
    {
      "cell_type": "markdown",
      "metadata": {
        "id": "view-in-github",
        "colab_type": "text"
      },
      "source": [
        "<a href=\"https://colab.research.google.com/github/AbhishekGiri1617/CrytoCurrency-Price-Prediction/blob/main/cryptocurrency_price_prediction.ipynb\" target=\"_parent\"><img src=\"https://colab.research.google.com/assets/colab-badge.svg\" alt=\"Open In Colab\"/></a>"
      ]
    },
    {
      "metadata": {
        "_uuid": "1825d796d33d8339088c0485e57d0f60857f2321",
        "id": "3MoicoaqDtNK"
      },
      "cell_type": "markdown",
      "source": [
        "### Using 6 minutes cryptocurrancy pricing data to predict the price of the next 6 Minutes"
      ]
    },
    {
      "metadata": {
        "_uuid": "8f2839f25d086af736a60e9eeb907d3b93b6e0e5",
        "_cell_guid": "b1076dfc-b9ad-4769-8c92-a6c4dae69d19",
        "trusted": true,
        "id": "1JUuAZEXDtNL"
      },
      "cell_type": "code",
      "source": [
        "import pandas as pd\n",
        "import os"
      ],
      "execution_count": null,
      "outputs": []
    },
    {
      "metadata": {
        "_uuid": "16eb8e7e08496329d615b34a5c73728249827e5d",
        "id": "uFg9O9ZxDtNM"
      },
      "cell_type": "markdown",
      "source": [
        "# load and prepare datasets"
      ]
    },
    {
      "metadata": {
        "_cell_guid": "79c7e3d0-c299-4dcb-8224-4455121ee9b0",
        "_uuid": "d629ff2d2480ee46fbb7e2d37f6b5fab8052498a",
        "trusted": true,
        "colab": {
          "base_uri": "https://localhost:8080/",
          "height": 206
        },
        "id": "-bFNq5lQDtNM",
        "outputId": "e120e74c-84a9-4bb4-dd74-e9ae392fde2d"
      },
      "cell_type": "code",
      "source": [
        "df = pd.read_csv('/content/BCH-USD.csv')\n",
        "df.head()"
      ],
      "execution_count": null,
      "outputs": [
        {
          "output_type": "execute_result",
          "data": {
            "text/plain": [
              "   1528968660  871.650024  871.729980  871.650024.1  871.719971   5.675361\n",
              "0  1528968720  870.859985  871.719971    871.719971  870.859985  26.856577\n",
              "1  1528968780  870.099976  871.090027    871.090027  870.099976   1.124300\n",
              "2  1528968840  868.830017  870.950012    868.830017  870.789978   1.749862\n",
              "3  1528968900  870.000000  870.000000    870.000000  870.000000   1.680500\n",
              "4  1528968960  869.989990  870.000000    870.000000  869.989990   1.669014"
            ],
            "text/html": [
              "\n",
              "  <div id=\"df-009b9582-3bd9-4ade-baac-96889431d80f\" class=\"colab-df-container\">\n",
              "    <div>\n",
              "<style scoped>\n",
              "    .dataframe tbody tr th:only-of-type {\n",
              "        vertical-align: middle;\n",
              "    }\n",
              "\n",
              "    .dataframe tbody tr th {\n",
              "        vertical-align: top;\n",
              "    }\n",
              "\n",
              "    .dataframe thead th {\n",
              "        text-align: right;\n",
              "    }\n",
              "</style>\n",
              "<table border=\"1\" class=\"dataframe\">\n",
              "  <thead>\n",
              "    <tr style=\"text-align: right;\">\n",
              "      <th></th>\n",
              "      <th>1528968660</th>\n",
              "      <th>871.650024</th>\n",
              "      <th>871.729980</th>\n",
              "      <th>871.650024.1</th>\n",
              "      <th>871.719971</th>\n",
              "      <th>5.675361</th>\n",
              "    </tr>\n",
              "  </thead>\n",
              "  <tbody>\n",
              "    <tr>\n",
              "      <th>0</th>\n",
              "      <td>1528968720</td>\n",
              "      <td>870.859985</td>\n",
              "      <td>871.719971</td>\n",
              "      <td>871.719971</td>\n",
              "      <td>870.859985</td>\n",
              "      <td>26.856577</td>\n",
              "    </tr>\n",
              "    <tr>\n",
              "      <th>1</th>\n",
              "      <td>1528968780</td>\n",
              "      <td>870.099976</td>\n",
              "      <td>871.090027</td>\n",
              "      <td>871.090027</td>\n",
              "      <td>870.099976</td>\n",
              "      <td>1.124300</td>\n",
              "    </tr>\n",
              "    <tr>\n",
              "      <th>2</th>\n",
              "      <td>1528968840</td>\n",
              "      <td>868.830017</td>\n",
              "      <td>870.950012</td>\n",
              "      <td>868.830017</td>\n",
              "      <td>870.789978</td>\n",
              "      <td>1.749862</td>\n",
              "    </tr>\n",
              "    <tr>\n",
              "      <th>3</th>\n",
              "      <td>1528968900</td>\n",
              "      <td>870.000000</td>\n",
              "      <td>870.000000</td>\n",
              "      <td>870.000000</td>\n",
              "      <td>870.000000</td>\n",
              "      <td>1.680500</td>\n",
              "    </tr>\n",
              "    <tr>\n",
              "      <th>4</th>\n",
              "      <td>1528968960</td>\n",
              "      <td>869.989990</td>\n",
              "      <td>870.000000</td>\n",
              "      <td>870.000000</td>\n",
              "      <td>869.989990</td>\n",
              "      <td>1.669014</td>\n",
              "    </tr>\n",
              "  </tbody>\n",
              "</table>\n",
              "</div>\n",
              "    <div class=\"colab-df-buttons\">\n",
              "\n",
              "  <div class=\"colab-df-container\">\n",
              "    <button class=\"colab-df-convert\" onclick=\"convertToInteractive('df-009b9582-3bd9-4ade-baac-96889431d80f')\"\n",
              "            title=\"Convert this dataframe to an interactive table.\"\n",
              "            style=\"display:none;\">\n",
              "\n",
              "  <svg xmlns=\"http://www.w3.org/2000/svg\" height=\"24px\" viewBox=\"0 -960 960 960\">\n",
              "    <path d=\"M120-120v-720h720v720H120Zm60-500h600v-160H180v160Zm220 220h160v-160H400v160Zm0 220h160v-160H400v160ZM180-400h160v-160H180v160Zm440 0h160v-160H620v160ZM180-180h160v-160H180v160Zm440 0h160v-160H620v160Z\"/>\n",
              "  </svg>\n",
              "    </button>\n",
              "\n",
              "  <style>\n",
              "    .colab-df-container {\n",
              "      display:flex;\n",
              "      gap: 12px;\n",
              "    }\n",
              "\n",
              "    .colab-df-convert {\n",
              "      background-color: #E8F0FE;\n",
              "      border: none;\n",
              "      border-radius: 50%;\n",
              "      cursor: pointer;\n",
              "      display: none;\n",
              "      fill: #1967D2;\n",
              "      height: 32px;\n",
              "      padding: 0 0 0 0;\n",
              "      width: 32px;\n",
              "    }\n",
              "\n",
              "    .colab-df-convert:hover {\n",
              "      background-color: #E2EBFA;\n",
              "      box-shadow: 0px 1px 2px rgba(60, 64, 67, 0.3), 0px 1px 3px 1px rgba(60, 64, 67, 0.15);\n",
              "      fill: #174EA6;\n",
              "    }\n",
              "\n",
              "    .colab-df-buttons div {\n",
              "      margin-bottom: 4px;\n",
              "    }\n",
              "\n",
              "    [theme=dark] .colab-df-convert {\n",
              "      background-color: #3B4455;\n",
              "      fill: #D2E3FC;\n",
              "    }\n",
              "\n",
              "    [theme=dark] .colab-df-convert:hover {\n",
              "      background-color: #434B5C;\n",
              "      box-shadow: 0px 1px 3px 1px rgba(0, 0, 0, 0.15);\n",
              "      filter: drop-shadow(0px 1px 2px rgba(0, 0, 0, 0.3));\n",
              "      fill: #FFFFFF;\n",
              "    }\n",
              "  </style>\n",
              "\n",
              "    <script>\n",
              "      const buttonEl =\n",
              "        document.querySelector('#df-009b9582-3bd9-4ade-baac-96889431d80f button.colab-df-convert');\n",
              "      buttonEl.style.display =\n",
              "        google.colab.kernel.accessAllowed ? 'block' : 'none';\n",
              "\n",
              "      async function convertToInteractive(key) {\n",
              "        const element = document.querySelector('#df-009b9582-3bd9-4ade-baac-96889431d80f');\n",
              "        const dataTable =\n",
              "          await google.colab.kernel.invokeFunction('convertToInteractive',\n",
              "                                                    [key], {});\n",
              "        if (!dataTable) return;\n",
              "\n",
              "        const docLinkHtml = 'Like what you see? Visit the ' +\n",
              "          '<a target=\"_blank\" href=https://colab.research.google.com/notebooks/data_table.ipynb>data table notebook</a>'\n",
              "          + ' to learn more about interactive tables.';\n",
              "        element.innerHTML = '';\n",
              "        dataTable['output_type'] = 'display_data';\n",
              "        await google.colab.output.renderOutput(dataTable, element);\n",
              "        const docLink = document.createElement('div');\n",
              "        docLink.innerHTML = docLinkHtml;\n",
              "        element.appendChild(docLink);\n",
              "      }\n",
              "    </script>\n",
              "  </div>\n",
              "\n",
              "\n",
              "<div id=\"df-4143760b-7dcf-4612-afbd-42fdb5daa241\">\n",
              "  <button class=\"colab-df-quickchart\" onclick=\"quickchart('df-4143760b-7dcf-4612-afbd-42fdb5daa241')\"\n",
              "            title=\"Suggest charts\"\n",
              "            style=\"display:none;\">\n",
              "\n",
              "<svg xmlns=\"http://www.w3.org/2000/svg\" height=\"24px\"viewBox=\"0 0 24 24\"\n",
              "     width=\"24px\">\n",
              "    <g>\n",
              "        <path d=\"M19 3H5c-1.1 0-2 .9-2 2v14c0 1.1.9 2 2 2h14c1.1 0 2-.9 2-2V5c0-1.1-.9-2-2-2zM9 17H7v-7h2v7zm4 0h-2V7h2v10zm4 0h-2v-4h2v4z\"/>\n",
              "    </g>\n",
              "</svg>\n",
              "  </button>\n",
              "\n",
              "<style>\n",
              "  .colab-df-quickchart {\n",
              "      --bg-color: #E8F0FE;\n",
              "      --fill-color: #1967D2;\n",
              "      --hover-bg-color: #E2EBFA;\n",
              "      --hover-fill-color: #174EA6;\n",
              "      --disabled-fill-color: #AAA;\n",
              "      --disabled-bg-color: #DDD;\n",
              "  }\n",
              "\n",
              "  [theme=dark] .colab-df-quickchart {\n",
              "      --bg-color: #3B4455;\n",
              "      --fill-color: #D2E3FC;\n",
              "      --hover-bg-color: #434B5C;\n",
              "      --hover-fill-color: #FFFFFF;\n",
              "      --disabled-bg-color: #3B4455;\n",
              "      --disabled-fill-color: #666;\n",
              "  }\n",
              "\n",
              "  .colab-df-quickchart {\n",
              "    background-color: var(--bg-color);\n",
              "    border: none;\n",
              "    border-radius: 50%;\n",
              "    cursor: pointer;\n",
              "    display: none;\n",
              "    fill: var(--fill-color);\n",
              "    height: 32px;\n",
              "    padding: 0;\n",
              "    width: 32px;\n",
              "  }\n",
              "\n",
              "  .colab-df-quickchart:hover {\n",
              "    background-color: var(--hover-bg-color);\n",
              "    box-shadow: 0 1px 2px rgba(60, 64, 67, 0.3), 0 1px 3px 1px rgba(60, 64, 67, 0.15);\n",
              "    fill: var(--button-hover-fill-color);\n",
              "  }\n",
              "\n",
              "  .colab-df-quickchart-complete:disabled,\n",
              "  .colab-df-quickchart-complete:disabled:hover {\n",
              "    background-color: var(--disabled-bg-color);\n",
              "    fill: var(--disabled-fill-color);\n",
              "    box-shadow: none;\n",
              "  }\n",
              "\n",
              "  .colab-df-spinner {\n",
              "    border: 2px solid var(--fill-color);\n",
              "    border-color: transparent;\n",
              "    border-bottom-color: var(--fill-color);\n",
              "    animation:\n",
              "      spin 1s steps(1) infinite;\n",
              "  }\n",
              "\n",
              "  @keyframes spin {\n",
              "    0% {\n",
              "      border-color: transparent;\n",
              "      border-bottom-color: var(--fill-color);\n",
              "      border-left-color: var(--fill-color);\n",
              "    }\n",
              "    20% {\n",
              "      border-color: transparent;\n",
              "      border-left-color: var(--fill-color);\n",
              "      border-top-color: var(--fill-color);\n",
              "    }\n",
              "    30% {\n",
              "      border-color: transparent;\n",
              "      border-left-color: var(--fill-color);\n",
              "      border-top-color: var(--fill-color);\n",
              "      border-right-color: var(--fill-color);\n",
              "    }\n",
              "    40% {\n",
              "      border-color: transparent;\n",
              "      border-right-color: var(--fill-color);\n",
              "      border-top-color: var(--fill-color);\n",
              "    }\n",
              "    60% {\n",
              "      border-color: transparent;\n",
              "      border-right-color: var(--fill-color);\n",
              "    }\n",
              "    80% {\n",
              "      border-color: transparent;\n",
              "      border-right-color: var(--fill-color);\n",
              "      border-bottom-color: var(--fill-color);\n",
              "    }\n",
              "    90% {\n",
              "      border-color: transparent;\n",
              "      border-bottom-color: var(--fill-color);\n",
              "    }\n",
              "  }\n",
              "</style>\n",
              "\n",
              "  <script>\n",
              "    async function quickchart(key) {\n",
              "      const quickchartButtonEl =\n",
              "        document.querySelector('#' + key + ' button');\n",
              "      quickchartButtonEl.disabled = true;  // To prevent multiple clicks.\n",
              "      quickchartButtonEl.classList.add('colab-df-spinner');\n",
              "      try {\n",
              "        const charts = await google.colab.kernel.invokeFunction(\n",
              "            'suggestCharts', [key], {});\n",
              "      } catch (error) {\n",
              "        console.error('Error during call to suggestCharts:', error);\n",
              "      }\n",
              "      quickchartButtonEl.classList.remove('colab-df-spinner');\n",
              "      quickchartButtonEl.classList.add('colab-df-quickchart-complete');\n",
              "    }\n",
              "    (() => {\n",
              "      let quickchartButtonEl =\n",
              "        document.querySelector('#df-4143760b-7dcf-4612-afbd-42fdb5daa241 button');\n",
              "      quickchartButtonEl.style.display =\n",
              "        google.colab.kernel.accessAllowed ? 'block' : 'none';\n",
              "    })();\n",
              "  </script>\n",
              "</div>\n",
              "\n",
              "    </div>\n",
              "  </div>\n"
            ],
            "application/vnd.google.colaboratory.intrinsic+json": {
              "type": "dataframe",
              "variable_name": "df",
              "summary": "{\n  \"name\": \"df\",\n  \"rows\": 92224,\n  \"fields\": [\n    {\n      \"column\": \"1528968660\",\n      \"properties\": {\n        \"dtype\": \"number\",\n        \"std\": 1810081,\n        \"min\": 1528968720,\n        \"max\": 1535215260,\n        \"num_unique_values\": 92224,\n        \"samples\": [\n          1530555360,\n          1535065380,\n          1534087200\n        ],\n        \"semantic_type\": \"\",\n        \"description\": \"\"\n      }\n    },\n    {\n      \"column\": \"871.650024\",\n      \"properties\": {\n        \"dtype\": \"number\",\n        \"std\": 110.99629500979172,\n        \"min\": 473.0,\n        \"max\": 926.0,\n        \"num_unique_values\": 25897,\n        \"samples\": [\n          865.450012,\n          481.109985,\n          519.299988\n        ],\n        \"semantic_type\": \"\",\n        \"description\": \"\"\n      }\n    },\n    {\n      \"column\": \"871.729980\",\n      \"properties\": {\n        \"dtype\": \"number\",\n        \"std\": 111.02944059914269,\n        \"min\": 474.660004,\n        \"max\": 929.98999,\n        \"num_unique_values\": 25605,\n        \"samples\": [\n          517.570007,\n          760.309998,\n          699.26001\n        ],\n        \"semantic_type\": \"\",\n        \"description\": \"\"\n      }\n    },\n    {\n      \"column\": \"871.650024.1\",\n      \"properties\": {\n        \"dtype\": \"number\",\n        \"std\": 111.00894824478088,\n        \"min\": 473.829987,\n        \"max\": 927.330017,\n        \"num_unique_values\": 26309,\n        \"samples\": [\n          702.580017,\n          693.52002,\n          814.030029\n        ],\n        \"semantic_type\": \"\",\n        \"description\": \"\"\n      }\n    },\n    {\n      \"column\": \"871.719971\",\n      \"properties\": {\n        \"dtype\": \"number\",\n        \"std\": 111.014713836748,\n        \"min\": 473.209991,\n        \"max\": 927.0,\n        \"num_unique_values\": 26369,\n        \"samples\": [\n          839.5,\n          771.210022,\n          623.72998\n        ],\n        \"semantic_type\": \"\",\n        \"description\": \"\"\n      }\n    },\n    {\n      \"column\": \"5.675361\",\n      \"properties\": {\n        \"dtype\": \"number\",\n        \"std\": 33.405873193967125,\n        \"min\": 2e-06,\n        \"max\": 1520.833862,\n        \"num_unique_values\": 82641,\n        \"samples\": [\n          1.263544,\n          0.135873,\n          0.0397\n        ],\n        \"semantic_type\": \"\",\n        \"description\": \"\"\n      }\n    }\n  ]\n}"
            }
          },
          "metadata": {},
          "execution_count": 7
        }
      ]
    },
    {
      "metadata": {
        "_uuid": "023c2e2555cdcb7745292566cbd8b841f5ca7d4a",
        "id": "IH_CQponDtNM"
      },
      "cell_type": "markdown",
      "source": [
        " here we need to add columns names and merge all data frames in one df\n"
      ]
    },
    {
      "metadata": {
        "trusted": true,
        "_uuid": "56decc1d64d482af7f2b517d83dfe1e1171e7b8b",
        "colab": {
          "base_uri": "https://localhost:8080/"
        },
        "id": "nYJC5D2mDtNM",
        "outputId": "ac64f475-d5a9-46bb-fb83-4f5676f3fc90"
      },
      "cell_type": "code",
      "source": [
        "main_df = pd.DataFrame()\n",
        "ratios = ['BTC-USD', 'LTC-USD', 'ETH-USD', 'BCH-USD']\n",
        "\n",
        "for ratio in ratios:\n",
        "    # note \"f\" is the new replacement for .format\n",
        "    dataset = f'/content/{ratio}.csv' # set dataset path\n",
        "    df = pd.read_csv(dataset, names=['time', 'low', 'high', 'open', 'close', 'volume'])\n",
        "    df.rename(columns={\"close\":f\"{ratio}_close\", \"volume\":f\"{ratio}_volume\"}, inplace=True)\n",
        "\n",
        "    # set time as index column\n",
        "    df.set_index(\"time\", inplace=True)\n",
        "    df = df[[f\"{ratio}_close\", f\"{ratio}_volume\"]]\n",
        "\n",
        "    # merge all df's\n",
        "    if len(main_df) == 0:\n",
        "        main_df = df\n",
        "    else:\n",
        "        main_df = main_df.join(df)\n",
        "\n",
        "print(main_df.head())"
      ],
      "execution_count": null,
      "outputs": [
        {
          "output_type": "stream",
          "name": "stdout",
          "text": [
            "            BTC-USD_close  BTC-USD_volume  LTC-USD_close  LTC-USD_volume  \\\n",
            "time                                                                       \n",
            "1528968660    6489.549805        0.587100      96.580002        9.647200   \n",
            "1528968720    6487.379883        7.706374      96.660004      314.387024   \n",
            "1528968780    6479.410156        3.088252      96.570000       77.129799   \n",
            "1528968840    6479.410156        1.404100      96.500000        7.216067   \n",
            "1528968900    6479.979980        0.753000      96.389999      524.539978   \n",
            "\n",
            "            ETH-USD_close  ETH-USD_volume  BCH-USD_close  BCH-USD_volume  \n",
            "time                                                                      \n",
            "1528968660            NaN             NaN     871.719971        5.675361  \n",
            "1528968720      486.01001       26.019083     870.859985       26.856577  \n",
            "1528968780      486.00000        8.449400     870.099976        1.124300  \n",
            "1528968840      485.75000       26.994646     870.789978        1.749862  \n",
            "1528968900      486.00000       77.355759     870.000000        1.680500  \n"
          ]
        }
      ]
    },
    {
      "metadata": {
        "trusted": true,
        "_uuid": "519bd8d9a07a1e6624ce34f7341e6987aa6c651d",
        "colab": {
          "base_uri": "https://localhost:8080/"
        },
        "id": "cNPUuDBYDtNN",
        "outputId": "806ccc5d-e1e6-47fd-c79a-5f0d9182f9a9"
      },
      "cell_type": "code",
      "source": [
        "for c in main_df.columns:\n",
        "    print(c)"
      ],
      "execution_count": null,
      "outputs": [
        {
          "output_type": "stream",
          "name": "stdout",
          "text": [
            "BTC-USD_close\n",
            "BTC-USD_volume\n",
            "LTC-USD_close\n",
            "LTC-USD_volume\n",
            "ETH-USD_close\n",
            "ETH-USD_volume\n",
            "BCH-USD_close\n",
            "BCH-USD_volume\n"
          ]
        }
      ]
    },
    {
      "metadata": {
        "trusted": true,
        "_uuid": "92fae0384aae776726be801981d17b5e676aad89",
        "id": "fUoC05zMDtNN"
      },
      "cell_type": "code",
      "source": [
        "# define parameters\n",
        "\n",
        "SEQ_LEN = 60 # number of min. data we use to predict\n",
        "FUTURE_PERIOD_PREDICT = 3 # future period to predict\n",
        "RATION_TO_PREDICT = \"ETH-USD\" # currency we will predict preice for\n"
      ],
      "execution_count": null,
      "outputs": []
    },
    {
      "metadata": {
        "trusted": true,
        "_uuid": "586e0e727f8f42d1af57e3a52b1a8baf53eea3df",
        "id": "c3GKBl5HDtNN"
      },
      "cell_type": "code",
      "source": [
        "def classify(current, future):\n",
        "    if float(future) > float(current):\n",
        "        return 1 # price will rise\n",
        "    else:\n",
        "        return 0  # price will go down"
      ],
      "execution_count": null,
      "outputs": []
    },
    {
      "metadata": {
        "trusted": true,
        "_uuid": "59d2df86af08b28a526fc0fef57b5c5bd88cceb5",
        "colab": {
          "base_uri": "https://localhost:8080/"
        },
        "id": "LomjJ5sBDtNN",
        "outputId": "bf44d67a-da1b-428b-d106-19cd4aa08e03"
      },
      "cell_type": "code",
      "source": [
        "main_df['future'] = main_df[f\"{RATION_TO_PREDICT}_close\"].shift(-FUTURE_PERIOD_PREDICT)\n",
        "print(main_df[[f\"{RATION_TO_PREDICT}_close\", \"future\"]].head())"
      ],
      "execution_count": null,
      "outputs": [
        {
          "output_type": "stream",
          "name": "stdout",
          "text": [
            "            ETH-USD_close     future\n",
            "time                                \n",
            "1528968660            NaN  485.75000\n",
            "1528968720      486.01001  486.00000\n",
            "1528968780      486.00000  486.00000\n",
            "1528968840      485.75000  485.98999\n",
            "1528968900      486.00000  485.98999\n"
          ]
        }
      ]
    },
    {
      "metadata": {
        "trusted": true,
        "_uuid": "67cbc52a92220078581f1e65ff52543619d289ba",
        "colab": {
          "base_uri": "https://localhost:8080/"
        },
        "id": "e8ppveVuDtNN",
        "outputId": "add2c48e-4f5c-45aa-e9e3-5983058565b8"
      },
      "cell_type": "code",
      "source": [
        "# create trarget column\n",
        "\n",
        "main_df['target'] = list(map(classify, main_df[f\"{RATION_TO_PREDICT}_close\"], main_df['future']))\n",
        "print(main_df[[f\"{RATION_TO_PREDICT}_close\", \"future\", 'target']].head())"
      ],
      "execution_count": null,
      "outputs": [
        {
          "output_type": "stream",
          "name": "stdout",
          "text": [
            "            ETH-USD_close     future  target\n",
            "time                                        \n",
            "1528968660            NaN  485.75000       0\n",
            "1528968720      486.01001  486.00000       0\n",
            "1528968780      486.00000  486.00000       0\n",
            "1528968840      485.75000  485.98999       1\n",
            "1528968900      486.00000  485.98999       0\n"
          ]
        }
      ]
    },
    {
      "metadata": {
        "trusted": true,
        "_uuid": "bab44641a257b19f3277c6f9a991a86b25b375b2",
        "id": "XwcsWxDyDtNN"
      },
      "cell_type": "markdown",
      "source": [
        "### sperate data into training and validating datasets"
      ]
    },
    {
      "metadata": {
        "trusted": true,
        "_uuid": "5455fe961c9aa6e83a821d4283be3a0d53bbacde",
        "id": "r6EHsXGyDtNN"
      },
      "cell_type": "markdown",
      "source": [
        "we can't shuffle data and split it, because that is not work in sequencial data."
      ]
    },
    {
      "metadata": {
        "trusted": true,
        "_uuid": "7a40a4c9080691b10f91b73f8ef59eb8aed43632",
        "colab": {
          "base_uri": "https://localhost:8080/"
        },
        "id": "I-J8VShjDtNN",
        "outputId": "bd449f35-144e-444d-bed8-44592bad3dc6"
      },
      "cell_type": "code",
      "source": [
        "times = sorted(main_df.index.values)\n",
        "last_5pct = times[-int(0.05 * len(times))]\n",
        "print(last_5pct)"
      ],
      "execution_count": null,
      "outputs": [
        {
          "output_type": "stream",
          "name": "stdout",
          "text": [
            "1534922100\n"
          ]
        }
      ]
    },
    {
      "metadata": {
        "trusted": true,
        "_uuid": "93757d79aa8ed3d151454ca83bedd9acfd728b94",
        "id": "br2MwTIuDtNO"
      },
      "cell_type": "code",
      "source": [
        "validation_main_df = main_df[(main_df.index >= last_5pct)]\n",
        "main_df = main_df[(main_df.index < last_5pct)]\n"
      ],
      "execution_count": null,
      "outputs": []
    },
    {
      "metadata": {
        "trusted": true,
        "_uuid": "591ba2fdccbf5fa61790acd43799e72e0329b151",
        "id": "zDMQuPeZDtNO"
      },
      "cell_type": "code",
      "source": [
        "# this fun. for scaling , normaize and balance data\n",
        "from sklearn import preprocessing\n",
        "from collections import deque\n",
        "import numpy as np\n",
        "import random\n",
        "import time\n",
        "def preprocess_df(df):\n",
        "    df = df.drop('future', axis=1) # this is only for testing and generate target\n",
        "\n",
        "    for col in df.columns:\n",
        "        if col != 'target':\n",
        "            # pct_change compute precent of change between prev. and immediate value\n",
        "            df[col] = df[col].pct_change()\n",
        "            df.dropna(inplace=True)\n",
        "            df[col] = preprocessing.scale(df[col].values) # scaling values 0-1\n",
        "    df.dropna(inplace=True)\n",
        "\n",
        "\n",
        "    # this part create a stack or queue of elements and in each iter. remove\n",
        "    # one time series and add another one in the end, append everystck when len be 60\n",
        "    sequencial_data = []\n",
        "    prev_days = deque(maxlen=SEQ_LEN) # make queue or stack of data\n",
        "\n",
        "    for i in df.values:\n",
        "        prev_days.append([n for n in i[:-1]])\n",
        "        if len(prev_days) == SEQ_LEN :\n",
        "            sequencial_data.append([np.array(prev_days) , i[-1]])\n",
        "\n",
        "    random.shuffle(sequencial_data)\n",
        "\n",
        "    buys = []\n",
        "    sells = []\n",
        "\n",
        "    for seq, target in sequencial_data:\n",
        "        if target == 0:\n",
        "            sells.append([seq, target])\n",
        "        elif target == 1:\n",
        "            buys.append([seq, target])\n",
        "\n",
        "    random.shuffle(buys)\n",
        "    random.shuffle(sells)\n",
        "\n",
        "    lower = min(len(buys), len(sells))\n",
        "\n",
        "    buys = buys[:lower]\n",
        "    sells = sells[:lower]\n",
        "    # print(f\"sq data len:{len(sequencial_data)}, balanced len: {len(buys) + len(sells)}\")\n",
        "    sequencial_data = buys + sells\n",
        "\n",
        "    random.shuffle(sequencial_data)\n",
        "\n",
        "    # split data into x, y\n",
        "    x = []\n",
        "    y = []\n",
        "\n",
        "    for seq, target in sequencial_data:\n",
        "        x.append(seq)\n",
        "        y.append(target)\n",
        "\n",
        "    return np.array(x), y"
      ],
      "execution_count": null,
      "outputs": []
    },
    {
      "metadata": {
        "trusted": true,
        "_uuid": "f1a36c0b2ff77b170657b1d61044cc2cb59127e0",
        "id": "hVw1iscNDtNO"
      },
      "cell_type": "code",
      "source": [
        "train_x , train_y = preprocess_df(main_df)\n",
        "validation_x, validation_y = preprocess_df(validation_main_df)"
      ],
      "execution_count": null,
      "outputs": []
    },
    {
      "metadata": {
        "trusted": true,
        "_uuid": "7077686dcf76e9c58f4ccaa95d20270007a0a102",
        "colab": {
          "base_uri": "https://localhost:8080/"
        },
        "id": "JczMIjL3DtNO",
        "outputId": "2d33059d-3049-4075-c0a2-56a63d42b75f"
      },
      "cell_type": "code",
      "source": [
        "print(f\"training data: {len(train_x)} validation: {len(validation_x)}\")\n",
        "print(f\"Dont buys: {train_y.count(0)}, buys: {train_y.count(1)}\")\n",
        "print(f\"validation dont buys: {validation_y.count(0)} buys: {validation_y.count(1)}\")"
      ],
      "execution_count": null,
      "outputs": [
        {
          "output_type": "stream",
          "name": "stdout",
          "text": [
            "training data: 74196 validation: 3260\n",
            "Dont buys: 37098, buys: 37098\n",
            "validation dont buys: 1630 buys: 1630\n"
          ]
        }
      ]
    },
    {
      "metadata": {
        "_uuid": "1cf71deae2b5e81462a09811f8642ec7d10e27cc",
        "id": "ihkMWv9YDtNO"
      },
      "cell_type": "markdown",
      "source": [
        "### Training and Predictions"
      ]
    },
    {
      "metadata": {
        "trusted": true,
        "_uuid": "505f31a384a66310ed75096e5d46e9256104427c",
        "id": "VgOYUzuJDtNO"
      },
      "cell_type": "code",
      "source": [
        "# import tensorflow as tf\n",
        "# from tensorflow.keras.models import Sequential\n",
        "# from tensorflow.keras.layers import Dense, Dropout, LSTM, BatchNormalization # Changed line - removed CuDNNLSTM\n",
        "# from tensorflow.keras.callbacks import TensorBoard, ModelCheckpoint\n",
        "\n",
        "# # define model parameter\n",
        "# EPOCHS = 10\n",
        "# BATCH_SIZE = 32\n",
        "# NAME = f\"{RATION_TO_PREDICT}-{SEQ_LEN}-SEQ-{FUTURE_PERIOD_PREDICT}-PRED-{int(time.time())}\"\n",
        "\n",
        "# model = Sequential()\n",
        "# # add layers to model\n",
        "# # if you using cpu version use LSTM not CuDNNLSTM, if you have gpu, tensorflow will automatically\n",
        "# # use the cudnn implementation if conditions are met.\n",
        "# model.add(LSTM(64, input_shape=(train_x.shape[1:]), return_sequences=True)) # Changed line - replaced CuDNNLSTM with LSTM\n",
        "# model.add(Dropout(0.2))\n",
        "# model.add(BatchNormalization())\n",
        "\n",
        "# model.add(LSTM(64, input_shape=(train_x.shape[1:]), return_sequences=True)) # Changed line - replaced CuDNNLSTM with LSTM\n",
        "# model.add(Dropout(0.2))\n",
        "# model.add(BatchNormalization())\n",
        "\n",
        "# model.add(LSTM(64, input_shape=(train_x.shape[1:]))) # Changed line - replaced CuDNNLSTM with LSTM\n",
        "# model.add(Dropout(0.2))\n",
        "# model.add(BatchNormalization())\n",
        "\n",
        "# model.add(Dense(6,activation=\"relu\"))\n",
        "# model.add(Dropout(0.2))\n",
        "\n",
        "# model.add(Dense(2, activation=\"softmax\"))\n",
        "\n",
        "# opt = tf.keras.optimizers.Adam(learning_rate=0.001, decay=1e-6) # Changed line - replaced 'lr' with 'learning_rate'\n",
        "\n",
        "# model.compile(loss='sparse_categorical_crossentropy',\n",
        "#              optimizer=opt,\n",
        "#              metrics=['accuracy'])\n",
        "\n",
        "# # tensorbord = TensorBoard(log_dir=f'log/{NAME}')\n",
        "\n",
        "# # filepath = \"RNN_Final-{epoch:02d}-{val_acc:.3f}\" # uniqe file name that will incluse the epoch and the validation acc for that ecpoch\n",
        "# # checkpoint = ModelCheckpoint(\"../input/{}.model\".format(filepath, monitor='val_acc', verbos=1, save_best_only=True, mod='max'))\n",
        "\n",
        "# history = model.fit(\n",
        "#         train_x, train_y,\n",
        "#         batch_size=BATCH_SIZE,\n",
        "#         epochs=EPOCHS,\n",
        "#         validation_data=(validation_x, validation_y))"
      ],
      "execution_count": null,
      "outputs": []
    },
    {
      "metadata": {
        "trusted": true,
        "_uuid": "693797ba0cdb29d7c4b430cd5866247afd254e20",
        "id": "sM90bSnlDtNO"
      },
      "cell_type": "code",
      "source": [
        "from IPython import get_ipython\n",
        "from IPython.display import display\n",
        "import pandas as pd\n",
        "import os\n",
        "from sklearn import preprocessing\n",
        "from collections import deque\n",
        "import numpy as np\n",
        "import random\n",
        "import time\n",
        "import tensorflow as tf\n",
        "from tensorflow.keras.models import Sequential\n",
        "from tensorflow.keras.layers import Dense, Dropout, LSTM, BatchNormalization\n",
        "from tensorflow.keras.callbacks import TensorBoard, ModelCheckpoint\n",
        "\n",
        "# Load and prepare datasets\n",
        "main_df = pd.DataFrame()\n",
        "ratios = ['BTC-USD', 'LTC-USD', 'ETH-USD', 'BCH-USD']\n",
        "\n",
        "for ratio in ratios:\n",
        "    dataset = f'/content/{ratio}.csv'\n",
        "    df = pd.read_csv(dataset, names=['time', 'low', 'high', 'open', 'close', 'volume'])\n",
        "    df.rename(columns={\"close\":f\"{ratio}_close\", \"volume\":f\"{ratio}_volume\"}, inplace=True)\n",
        "    df.set_index(\"time\", inplace=True)\n",
        "    df = df[[f\"{ratio}_close\", f\"{ratio}_volume\"]]\n",
        "    if len(main_df) == 0:\n",
        "        main_df = df\n",
        "    else:\n",
        "        main_df = main_df.join(df)\n",
        "\n",
        "# Define parameters\n",
        "SEQ_LEN = 60\n",
        "FUTURE_PERIOD_PREDICT = 3\n",
        "RATION_TO_PREDICT = \"ETH-USD\"\n",
        "\n",
        "# Classify function\n",
        "def classify(current, future):\n",
        "    if float(future) > float(current):\n",
        "        return 1\n",
        "    else:\n",
        "        return 0\n",
        "\n",
        "# Create target column\n",
        "main_df['future'] = main_df[f\"{RATION_TO_PREDICT}_close\"].shift(-FUTURE_PERIOD_PREDICT)\n",
        "main_df['target'] = list(map(classify, main_df[f\"{RATION_TO_PREDICT}_close\"], main_df['future']))\n",
        "\n",
        "# Separate data into training and validating datasets\n",
        "times = sorted(main_df.index.values)\n",
        "last_5pct = times[-int(0.05 * len(times))]\n",
        "validation_main_df = main_df[(main_df.index >= last_5pct)]\n",
        "main_df = main_df[(main_df.index < last_5pct)]\n",
        "\n",
        "# Preprocess data\n",
        "def preprocess_df(df):\n",
        "    df = df.drop('future', axis=1)\n",
        "    for col in df.columns:\n",
        "        if col != 'target':\n",
        "            df[col] = df[col].pct_change()\n",
        "            df.dropna(inplace=True)\n",
        "            df[col] = preprocessing.scale(df[col].values)\n",
        "    df.dropna(inplace=True)\n",
        "\n",
        "    sequencial_data = []\n",
        "    prev_days = deque(maxlen=SEQ_LEN)\n",
        "    for i in df.values:\n",
        "        prev_days.append([n for n in i[:-1]])\n",
        "        if len(prev_days) == SEQ_LEN:\n",
        "            sequencial_data.append([np.array(prev_days), i[-1]])\n",
        "\n",
        "    random.shuffle(sequencial_data)\n",
        "    buys = []\n",
        "    sells = []\n",
        "    for seq, target in sequencial_data:\n",
        "        if target == 0:\n",
        "            sells.append([seq, target])\n",
        "        elif target == 1:\n",
        "            buys.append([seq, target])\n",
        "    random.shuffle(buys)\n",
        "    random.shuffle(sells)\n",
        "\n",
        "    lower = min(len(buys), len(sells))\n",
        "    buys = buys[:lower]\n",
        "    sells = sells[:lower]\n",
        "    sequencial_data = buys + sells\n",
        "    random.shuffle(sequencial_data)\n",
        "\n",
        "    x = []\n",
        "    y = []\n",
        "    for seq, target in sequencial_data:\n",
        "        x.append(seq)\n",
        "        y.append(target)\n",
        "\n",
        "    return np.array(x), y\n",
        "\n",
        "train_x, train_y = preprocess_df(main_df)\n",
        "validation_x, validation_y = preprocess_df(validation_main_df)\n",
        "\n",
        "# Training and Predictions\n",
        "EPOCHS = 50\n",
        "BATCH_SIZE = 64\n",
        "NAME = f\"{RATION_TO_PREDICT}-{SEQ_LEN}-SEQ-{FUTURE_PERIOD_PREDICT}-PRED-{int(time.time())}\"\n",
        "\n",
        "model = Sequential()\n",
        "model.add(LSTM(64, input_shape=(train_x.shape[1:]), return_sequences=True))\n",
        "model.add(Dropout(0.2))\n",
        "model.add(BatchNormalization())\n",
        "\n",
        "model.add(LSTM(64, input_shape=(train_x.shape[1:]), return_sequences=True))\n",
        "model.add(Dropout(0.2))\n",
        "model.add(BatchNormalization())\n",
        "\n",
        "model.add(LSTM(64, input_shape=(train_x.shape[1:])))\n",
        "model.add(Dropout(0.2))\n",
        "model.add(BatchNormalization())\n",
        "\n",
        "model.add(Dense(6, activation=\"relu\"))\n",
        "model.add(Dropout(0.2))\n",
        "\n",
        "model.add(Dense(2, activation=\"softmax\"))\n",
        "\n",
        "opt = tf.keras.optimizers.Adam(learning_rate=0.001, decay=1e-6)\n",
        "\n",
        "model.compile(loss='sparse_categorical_crossentropy',\n",
        "             optimizer=opt,\n",
        "             metrics=['accuracy'])\n",
        "\n",
        "# Ensure all arrays have the expected dimensions and data type\n",
        "train_x = np.asarray(train_x).astype(np.float32)\n",
        "validation_x = np.asarray(validation_x).astype(np.float32)\n",
        "train_y = np.asarray(train_y).astype(np.float32)\n",
        "validation_y = np.asarray(validation_y).astype(np.float32)\n",
        "\n",
        "# Check if validation data is empty and handle it\n",
        "if validation_x.size == 0 or validation_y.size == 0:\n",
        "    print(\"Validation data is empty. Skipping validation.\")\n",
        "    history = model.fit(\n",
        "        train_x, train_y,\n",
        "        batch_size=BATCH_SIZE,\n",
        "        epochs=EPOCHS\n",
        "    )\n",
        "else:\n",
        "    history = model.fit(\n",
        "        train_x, train_y,\n",
        "        batch_size=BATCH_SIZE,\n",
        "        epochs=EPOCHS,\n",
        "        validation_data=(validation_x, validation_y)\n",
        "    )"
      ],
      "execution_count": null,
      "outputs": []
    },
    {
      "cell_type": "code",
      "source": [
        "# prompt: use the above trained model to backtest\n",
        "\n",
        "import numpy as np\n",
        "import matplotlib.pyplot as plt\n",
        "\n",
        "# Assuming 'history' is the result of model.fit() as in your provided code\n",
        "# Access the history object to get accuracy and loss values\n",
        "accuracy = history.history['accuracy']\n",
        "val_accuracy = history.history['val_accuracy']\n",
        "loss = history.history['loss']\n",
        "val_loss = history.history['val_loss']\n",
        "\n",
        "# Plot the accuracy\n",
        "plt.figure(figsize=(10, 5))\n",
        "plt.plot(accuracy, label='Training Accuracy')\n",
        "plt.plot(val_accuracy, label='Validation Accuracy')\n",
        "plt.title('Training and Validation Accuracy')\n",
        "plt.xlabel('Epoch')\n",
        "plt.ylabel('Accuracy')\n",
        "plt.legend()\n",
        "plt.show()\n",
        "\n",
        "# Plot the loss\n",
        "plt.figure(figsize=(10, 5))\n",
        "plt.plot(loss, label='Training Loss')\n",
        "plt.plot(val_loss, label='Validation Loss')\n",
        "plt.title('Training and Validation Loss')\n",
        "plt.xlabel('Epoch')\n",
        "plt.ylabel('Loss')\n",
        "plt.legend()\n",
        "plt.show()\n",
        "\n",
        "# Evaluate the model\n",
        "_, accuracy = model.evaluate(validation_x, validation_y)\n",
        "print('Accuracy: %.2f' % (accuracy*100))\n",
        "\n",
        "\n",
        "# Make predictions on the validation set\n",
        "predictions = model.predict(validation_x)\n",
        "predicted_classes = np.argmax(predictions, axis=1)\n",
        "\n",
        "# Further analysis: Confusion Matrix, Precision, Recall, F1-score\n",
        "from sklearn.metrics import confusion_matrix, classification_report\n",
        "\n",
        "print(confusion_matrix(validation_y, predicted_classes))\n",
        "print(classification_report(validation_y, predicted_classes))\n"
      ],
      "metadata": {
        "id": "cMxr6PpGTj1_",
        "collapsed": true
      },
      "execution_count": null,
      "outputs": []
    }
  ],
  "metadata": {
    "kernelspec": {
      "display_name": "Python 3",
      "name": "python3"
    },
    "language_info": {
      "name": "python",
      "version": "3.6.6",
      "mimetype": "text/x-python",
      "codemirror_mode": {
        "name": "ipython",
        "version": 3
      },
      "pygments_lexer": "ipython3",
      "nbconvert_exporter": "python",
      "file_extension": ".py"
    },
    "colab": {
      "provenance": [],
      "gpuType": "T4",
      "include_colab_link": true
    },
    "accelerator": "GPU"
  },
  "nbformat": 4,
  "nbformat_minor": 0
}